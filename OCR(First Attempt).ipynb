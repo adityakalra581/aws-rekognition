{
 "cells": [
  {
   "cell_type": "markdown",
   "metadata": {},
   "source": [
    "\n",
    "### AMAZON REKOGNITION\n",
    "\n",
    "\n",
    "DOCS: https://boto3.amazonaws.com/v1/documentation/api/latest/reference/services/rekognition.html#Rekognition.Client.detect_text\n",
    "- (Reference for implementation for every aws rekognition feature.)\n",
    "\n",
    "*CONTENTS*\n",
    "\n",
    "- detect labels\n",
    "- detect text(Amazon receipt)\n",
    "- detect text(Image with text)"
   ]
  },
  {
   "cell_type": "markdown",
   "metadata": {},
   "source": [
    "###  detect_labels\n",
    "- labels of an image is detected.\n",
    "- with certain level of confidence.\n"
   ]
  },
  {
   "cell_type": "code",
   "execution_count": 21,
   "metadata": {},
   "outputs": [
    {
     "name": "stdout",
     "output_type": "stream",
     "text": [
      "{'Labels': [{'Name': 'Sunglasses', 'Confidence': 94.98957824707031, 'Instances': [{'BoundingBox': {'Width': 0.22055688500404358, 'Height': 0.11086561530828476, 'Left': 0.4125010073184967, 'Top': 0.3206322193145752}, 'Confidence': 94.98957824707031}], 'Parents': []}, {'Name': 'Person', 'Confidence': 94.79754638671875, 'Instances': [{'BoundingBox': {'Width': 0.42309194803237915, 'Height': 0.8152577877044678, 'Left': 0.38303446769714355, 'Top': 0.08074408769607544}, 'Confidence': 92.49873352050781}], 'Parents': []}, {'Name': 'Video Gaming', 'Confidence': 70.58806610107422, 'Instances': [], 'Parents': [{'Name': 'Person'}]}, {'Name': 'Sitting', 'Confidence': 70.08794403076172, 'Instances': [], 'Parents': [{'Name': 'Person'}]}, {'Name': 'People', 'Confidence': 60.400474548339844, 'Instances': [], 'Parents': [{'Name': 'Person'}]}], 'LabelModelVersion': '2.0', 'ResponseMetadata': {'RequestId': '8799bf49-7cb7-4c86-ba78-23703d7bdcfd', 'HTTPStatusCode': 200, 'HTTPHeaders': {'content-type': 'application/x-amz-json-1.1', 'date': 'Fri, 03 Jan 2020 08:22:33 GMT', 'x-amzn-requestid': '8799bf49-7cb7-4c86-ba78-23703d7bdcfd', 'content-length': '799', 'connection': 'keep-alive'}, 'RetryAttempts': 0}}\n"
     ]
    }
   ],
   "source": [
    "import csv\n",
    "import boto3\n",
    "with open('credentials.csv','r') as input:   #AWS Credentials stored inside the same folder as this notebook.\n",
    "    next(input)\n",
    "    reader=csv.reader(input)\n",
    "    for line in reader:\n",
    "        access_key_id=line[2]              # line[1] consists only columns \n",
    "        secret_access_key=line[3]          \n",
    "photo='download.jpg'                       # image with name 'download.jpg' stored inside the same folder as this notebook.\n",
    "client=boto3.client('rekognition',region_name='us-east-2',\n",
    "    aws_access_key_id=access_key_id,\n",
    "    aws_secret_access_key=secret_access_key)\n",
    "\n",
    "with open(photo,'rb') as source_image:   # Using base encoded method\n",
    "    source_bytes=source_image.read()     # Storing in s3 bucket method is not working yet.\n",
    "                                         ## ERROR: invalids3objectexception\n",
    "# response=client.detect_labels(\n",
    "# Image={\n",
    "#     'S3Object':{\n",
    "#         'Bucket':'adityak-tronano',\n",
    "#         'Name': photo\n",
    "#     }\n",
    "#  }\n",
    "# )\n",
    "response = client.detect_labels(\n",
    "    Image={\n",
    "        'Bytes': source_bytes},\n",
    "MaxLabels=5)\n",
    "print(response)\n",
    "        "
   ]
  },
  {
   "cell_type": "markdown",
   "metadata": {},
   "source": [
    "![](download.jpg)"
   ]
  },
  {
   "cell_type": "markdown",
   "metadata": {},
   "source": [
    "### detect_text"
   ]
  },
  {
   "cell_type": "code",
   "execution_count": 45,
   "metadata": {},
   "outputs": [
    {
     "name": "stdout",
     "output_type": "stream",
     "text": [
      "<class 'str'>\n"
     ]
    }
   ],
   "source": [
    "import csv\n",
    "import boto3\n",
    "with open('credentials.csv','r') as input:\n",
    "    next(input)\n",
    "    reader=csv.reader(input)\n",
    "    for line in reader:\n",
    "        access_key_id=line[2]\n",
    "        secret_access_key=line[3]\n",
    "photo='receipt.jpeg'\n",
    "client=boto3.client('rekognition',region_name='us-east-2',\n",
    "    aws_access_key_id=access_key_id,\n",
    "    aws_secret_access_key=secret_access_key)\n",
    "\n",
    "with open(photo,'rb') as source_image:\n",
    "    source_bytes=source_image.read()\n",
    "\n",
    "# response=client.detect_text(\n",
    "# Image={\n",
    "#     'S3Object':{\n",
    "#         'Bucket':'adityak-tronano',\n",
    "#         'Name': photo\n",
    "#     }\n",
    "#  }\n",
    "# )\n",
    "response = client.detect_text(\n",
    "    Image={\n",
    "        'Bytes': source_bytes})\n",
    "print(response)\n",
    "print(type(response))\n",
    "\n",
    "# Response is a dictionary in json format.\n",
    "\n",
    "\n",
    "# import json\n",
    "# s=json.dumps(response)\n",
    "# with open('C://Users//aditya//Desktop//OCR//resp.txt','w') as f:\n",
    "#     f.write(s)      \n",
    "\n",
    "## This will create a txt file in the ocr folder named resp\n",
    "# This will include everything that api provided.\n",
    "\n",
    "#print(type(s))       (s will be a string)\n",
    "    "
   ]
  },
  {
   "cell_type": "markdown",
   "metadata": {},
   "source": [
    "![](receipt.jpeg)"
   ]
  },
  {
   "cell_type": "code",
   "execution_count": 59,
   "metadata": {},
   "outputs": [
    {
     "name": "stdout",
     "output_type": "stream",
     "text": [
      "{'DetectedText': 'Weight:', 'Type': 'LINE', 'Id': 1, 'Confidence': 99.49995422363281, 'Geometry': {'BoundingBox': {'Width': 0.11376536637544632, 'Height': 0.02587997540831566, 'Left': 0.6280552744865417, 'Top': 0.09609725326299667}, 'Polygon': [{'X': 0.6280552744865417, 'Y': 0.09609725326299667}, {'X': 0.7418206334114075, 'Y': 0.09521026909351349}, {'X': 0.7422718405723572, 'Y': 0.12109024822711945}, {'X': 0.6285064816474915, 'Y': 0.12197723239660263}]}}\n",
      "+++++++++++\n",
      "<class 'list'>\n"
     ]
    }
   ],
   "source": [
    "print(response['TextDetections'][1])\n",
    "# Clearly TextDetections is a list.\n",
    "\n",
    "print(\"+++++++++++\")\n",
    "\n",
    "print(type(response['TextDetections']))\n",
    "# "
   ]
  },
  {
   "cell_type": "markdown",
   "metadata": {},
   "source": [
    "## detect_text (Attempt 2)"
   ]
  },
  {
   "cell_type": "code",
   "execution_count": 29,
   "metadata": {},
   "outputs": [
    {
     "name": "stdout",
     "output_type": "stream",
     "text": [
      "{'TextDetections': [{'DetectedText': 'LIFE IS LIKE RIDING A', 'Type': 'LINE', 'Id': 0, 'Confidence': 98.95955657958984, 'Geometry': {'BoundingBox': {'Width': 0.4210095703601837, 'Height': 0.07894784212112427, 'Left': 0.41561299562454224, 'Top': 0.2184893786907196}, 'Polygon': [{'X': 0.41561299562454224, 'Y': 0.2184893786907196}, {'X': 0.8366225957870483, 'Y': 0.214822918176651}, {'X': 0.8368611931800842, 'Y': 0.29377076029777527}, {'X': 0.4158516228199005, 'Y': 0.29743722081184387}]}}, {'DetectedText': 'BICYCLE TO KEEP YOUR', 'Type': 'LINE', 'Id': 1, 'Confidence': 99.41080474853516, 'Geometry': {'BoundingBox': {'Width': 0.46051761507987976, 'Height': 0.0772591233253479, 'Left': 0.41571637988090515, 'Top': 0.3109249770641327}, 'Polygon': [{'X': 0.41571637988090515, 'Y': 0.3109249770641327}, {'X': 0.8762339949607849, 'Y': 0.3087281286716461}, {'X': 0.8763619065284729, 'Y': 0.385987251996994}, {'X': 0.41584429144859314, 'Y': 0.3881841003894806}]}}, {'DetectedText': 'BALANCE YOU MOST', 'Type': 'LINE', 'Id': 2, 'Confidence': 97.98454284667969, 'Geometry': {'BoundingBox': {'Width': 0.39603960514068604, 'Height': 0.06722689419984818, 'Left': 0.41584157943725586, 'Top': 0.40336135029792786}, 'Polygon': [{'X': 0.41584157943725586, 'Y': 0.40336135029792786}, {'X': 0.8118811845779419, 'Y': 0.40336135029792786}, {'X': 0.8118811845779419, 'Y': 0.47058823704719543}, {'X': 0.41584157943725586, 'Y': 0.47058823704719543}]}}, {'DetectedText': 'KEEP MOVING', 'Type': 'LINE', 'Id': 3, 'Confidence': 99.486083984375, 'Geometry': {'BoundingBox': {'Width': 0.28749629855155945, 'Height': 0.07724078744649887, 'Left': 0.4158499240875244, 'Top': 0.4857786297798157}, 'Polygon': [{'X': 0.4158499240875244, 'Y': 0.4857786297798157}, {'X': 0.7033461928367615, 'Y': 0.4900456368923187}, {'X': 0.7029483318328857, 'Y': 0.5672864317893982}, {'X': 0.4154520630836487, 'Y': 0.5630194544792175}]}}, {'DetectedText': 'E', 'Type': 'LINE', 'Id': 4, 'Confidence': 84.12454223632812, 'Geometry': {'BoundingBox': {'Width': 0.0445544570684433, 'Height': 0.18487395346164703, 'Left': 0.1881188154220581, 'Top': 0.529411792755127}, 'Polygon': [{'X': 0.1881188154220581, 'Y': 0.529411792755127}, {'X': 0.2326732724905014, 'Y': 0.529411792755127}, {'X': 0.2326732724905014, 'Y': 0.7142857313156128}, {'X': 0.1881188154220581, 'Y': 0.7142857313156128}]}}, {'DetectedText': 'MY', 'Type': 'LINE', 'Id': 5, 'Confidence': 59.12716293334961, 'Geometry': {'BoundingBox': {'Width': 0.17326731979846954, 'Height': 0.042016807943582535, 'Left': 0.41584157943725586, 'Top': 0.5882353186607361}, 'Polygon': [{'X': 0.41584157943725586, 'Y': 0.5882353186607361}, {'X': 0.5891088843345642, 'Y': 0.5882353186607361}, {'X': 0.5891088843345642, 'Y': 0.6302521228790283}, {'X': 0.41584157943725586, 'Y': 0.6302521228790283}]}}, {'DetectedText': 'LIFE', 'Type': 'WORD', 'Id': 6, 'ParentId': 0, 'Confidence': 99.57933807373047, 'Geometry': {'BoundingBox': {'Width': 0.0891089141368866, 'Height': 0.07563025504350662, 'Left': 0.41584157943725586, 'Top': 0.21848739683628082}, 'Polygon': [{'X': 0.41584157943725586, 'Y': 0.21848739683628082}, {'X': 0.5049505233764648, 'Y': 0.21848739683628082}, {'X': 0.5049505233764648, 'Y': 0.29411765933036804}, {'X': 0.41584157943725586, 'Y': 0.29411765933036804}]}}, {'DetectedText': 'IS', 'Type': 'WORD', 'Id': 7, 'ParentId': 0, 'Confidence': 98.01832580566406, 'Geometry': {'BoundingBox': {'Width': 0.039603959769010544, 'Height': 0.07563025504350662, 'Left': 0.5049505233764648, 'Top': 0.21848739683628082}, 'Polygon': [{'X': 0.5049505233764648, 'Y': 0.21848739683628082}, {'X': 0.5445544719696045, 'Y': 0.21848739683628082}, {'X': 0.5445544719696045, 'Y': 0.29411765933036804}, {'X': 0.5049505233764648, 'Y': 0.29411765933036804}]}}, {'DetectedText': 'LIKE', 'Type': 'WORD', 'Id': 8, 'ParentId': 0, 'Confidence': 97.63201141357422, 'Geometry': {'BoundingBox': {'Width': 0.0891089141368866, 'Height': 0.07563025504350662, 'Left': 0.5594059228897095, 'Top': 0.21848739683628082}, 'Polygon': [{'X': 0.5594059228897095, 'Y': 0.21848739683628082}, {'X': 0.6485148668289185, 'Y': 0.21848739683628082}, {'X': 0.6485148668289185, 'Y': 0.29411765933036804}, {'X': 0.5594059228897095, 'Y': 0.29411765933036804}]}}, {'DetectedText': 'RIDING', 'Type': 'WORD', 'Id': 9, 'ParentId': 0, 'Confidence': 99.9133071899414, 'Geometry': {'BoundingBox': {'Width': 0.1435643583536148, 'Height': 0.07563025504350662, 'Left': 0.6534653306007385, 'Top': 0.21848739683628082}, 'Polygon': [{'X': 0.6534653306007385, 'Y': 0.21848739683628082}, {'X': 0.7970296740531921, 'Y': 0.21848739683628082}, {'X': 0.7970296740531921, 'Y': 0.29411765933036804}, {'X': 0.6534653306007385, 'Y': 0.29411765933036804}]}}, {'DetectedText': 'A', 'Type': 'WORD', 'Id': 10, 'ParentId': 0, 'Confidence': 99.65479278564453, 'Geometry': {'BoundingBox': {'Width': 0.039603959769010544, 'Height': 0.06722689419984818, 'Left': 0.7970296740531921, 'Top': 0.21848739683628082}, 'Polygon': [{'X': 0.7970296740531921, 'Y': 0.21848739683628082}, {'X': 0.8366336822509766, 'Y': 0.21848739683628082}, {'X': 0.8366336822509766, 'Y': 0.2857142984867096}, {'X': 0.7970296740531921, 'Y': 0.2857142984867096}]}}, {'DetectedText': 'BICYCLE', 'Type': 'WORD', 'Id': 11, 'ParentId': 1, 'Confidence': 99.88912963867188, 'Geometry': {'BoundingBox': {'Width': 0.1782178282737732, 'Height': 0.07563025504350662, 'Left': 0.41584157943725586, 'Top': 0.31092438101768494}, 'Polygon': [{'X': 0.41584157943725586, 'Y': 0.31092438101768494}, {'X': 0.594059407711029, 'Y': 0.31092438101768494}, {'X': 0.594059407711029, 'Y': 0.38655462861061096}, {'X': 0.41584157943725586, 'Y': 0.38655462861061096}]}}, {'DetectedText': 'TO', 'Type': 'WORD', 'Id': 12, 'ParentId': 1, 'Confidence': 99.6385726928711, 'Geometry': {'BoundingBox': {'Width': 0.05445544421672821, 'Height': 0.06722689419984818, 'Left': 0.5990098714828491, 'Top': 0.31092438101768494}, 'Polygon': [{'X': 0.5990098714828491, 'Y': 0.31092438101768494}, {'X': 0.6534653306007385, 'Y': 0.31092438101768494}, {'X': 0.6534653306007385, 'Y': 0.3781512677669525}, {'X': 0.5990098714828491, 'Y': 0.3781512677669525}]}}, {'DetectedText': 'KEEP', 'Type': 'WORD', 'Id': 13, 'ParentId': 1, 'Confidence': 99.90277862548828, 'Geometry': {'BoundingBox': {'Width': 0.09900990128517151, 'Height': 0.06722689419984818, 'Left': 0.6584158539772034, 'Top': 0.3193277418613434}, 'Polygon': [{'X': 0.6584158539772034, 'Y': 0.3193277418613434}, {'X': 0.7574257254600525, 'Y': 0.3193277418613434}, {'X': 0.7574257254600525, 'Y': 0.38655462861061096}, {'X': 0.6584158539772034, 'Y': 0.38655462861061096}]}}, {'DetectedText': 'YOUR', 'Type': 'WORD', 'Id': 14, 'ParentId': 1, 'Confidence': 98.2127456665039, 'Geometry': {'BoundingBox': {'Width': 0.10891088843345642, 'Height': 0.06722689419984818, 'Left': 0.7673267126083374, 'Top': 0.31092438101768494}, 'Polygon': [{'X': 0.7673267126083374, 'Y': 0.31092438101768494}, {'X': 0.8762376308441162, 'Y': 0.31092438101768494}, {'X': 0.8762376308441162, 'Y': 0.3781512677669525}, {'X': 0.7673267126083374, 'Y': 0.3781512677669525}]}}, {'DetectedText': 'BALANCE', 'Type': 'WORD', 'Id': 15, 'ParentId': 2, 'Confidence': 99.95114135742188, 'Geometry': {'BoundingBox': {'Width': 0.18316832184791565, 'Height': 0.06722689419984818, 'Left': 0.41584157943725586, 'Top': 0.40336135029792786}, 'Polygon': [{'X': 0.41584157943725586, 'Y': 0.40336135029792786}, {'X': 0.5990098714828491, 'Y': 0.40336135029792786}, {'X': 0.5990098714828491, 'Y': 0.47058823704719543}, {'X': 0.41584157943725586, 'Y': 0.47058823704719543}]}}, {'DetectedText': 'YOU', 'Type': 'WORD', 'Id': 16, 'ParentId': 2, 'Confidence': 99.51297760009766, 'Geometry': {'BoundingBox': {'Width': 0.08415841311216354, 'Height': 0.06722689419984818, 'Left': 0.603960394859314, 'Top': 0.40336135029792786}, 'Polygon': [{'X': 0.603960394859314, 'Y': 0.40336135029792786}, {'X': 0.6881188154220581, 'Y': 0.40336135029792786}, {'X': 0.6881188154220581, 'Y': 0.47058823704719543}, {'X': 0.603960394859314, 'Y': 0.47058823704719543}]}}, {'DetectedText': 'MOST', 'Type': 'WORD', 'Id': 17, 'ParentId': 2, 'Confidence': 94.48950958251953, 'Geometry': {'BoundingBox': {'Width': 0.11881188303232193, 'Height': 0.06722689419984818, 'Left': 0.6930692791938782, 'Top': 0.40336135029792786}, 'Polygon': [{'X': 0.6930692791938782, 'Y': 0.40336135029792786}, {'X': 0.8118811845779419, 'Y': 0.40336135029792786}, {'X': 0.8118811845779419, 'Y': 0.47058823704719543}, {'X': 0.6930692791938782, 'Y': 0.47058823704719543}]}}, {'DetectedText': 'E', 'Type': 'WORD', 'Id': 20, 'ParentId': 4, 'Confidence': 84.12454223632812, 'Geometry': {'BoundingBox': {'Width': 0.0445544570684433, 'Height': 0.18487395346164703, 'Left': 0.1881188154220581, 'Top': 0.529411792755127}, 'Polygon': [{'X': 0.1881188154220581, 'Y': 0.529411792755127}, {'X': 0.2326732724905014, 'Y': 0.529411792755127}, {'X': 0.2326732724905014, 'Y': 0.7142857313156128}, {'X': 0.1881188154220581, 'Y': 0.7142857313156128}]}}, {'DetectedText': 'KEEP', 'Type': 'WORD', 'Id': 18, 'ParentId': 3, 'Confidence': 99.8127670288086, 'Geometry': {'BoundingBox': {'Width': 0.10891088843345642, 'Height': 0.07563025504350662, 'Left': 0.41584157943725586, 'Top': 0.48739495873451233}, 'Polygon': [{'X': 0.41584157943725586, 'Y': 0.48739495873451233}, {'X': 0.5247524976730347, 'Y': 0.48739495873451233}, {'X': 0.5247524976730347, 'Y': 0.5630252361297607}, {'X': 0.41584157943725586, 'Y': 0.5630252361297607}]}}, {'DetectedText': 'MOVING', 'Type': 'WORD', 'Id': 19, 'ParentId': 3, 'Confidence': 99.1594009399414, 'Geometry': {'BoundingBox': {'Width': 0.1782178282737732, 'Height': 0.06722689419984818, 'Left': 0.5247524976730347, 'Top': 0.4957983195781708}, 'Polygon': [{'X': 0.5247524976730347, 'Y': 0.4957983195781708}, {'X': 0.7029703259468079, 'Y': 0.4957983195781708}, {'X': 0.7029703259468079, 'Y': 0.5630252361297607}, {'X': 0.5247524976730347, 'Y': 0.5630252361297607}]}}, {'DetectedText': 'MY', 'Type': 'WORD', 'Id': 21, 'ParentId': 5, 'Confidence': 59.12716293334961, 'Geometry': {'BoundingBox': {'Width': 0.17326731979846954, 'Height': 0.042016807943582535, 'Left': 0.41584157943725586, 'Top': 0.5882353186607361}, 'Polygon': [{'X': 0.41584157943725586, 'Y': 0.5882353186607361}, {'X': 0.5891088843345642, 'Y': 0.5882353186607361}, {'X': 0.5891088843345642, 'Y': 0.6302521228790283}, {'X': 0.41584157943725586, 'Y': 0.6302521228790283}]}}], 'ResponseMetadata': {'RequestId': '4c14149a-b2d8-4fe9-82c4-38575ec3b414', 'HTTPStatusCode': 200, 'HTTPHeaders': {'content-type': 'application/x-amz-json-1.1', 'date': 'Fri, 03 Jan 2020 08:38:11 GMT', 'x-amzn-requestid': '4c14149a-b2d8-4fe9-82c4-38575ec3b414', 'content-length': '9520', 'connection': 'keep-alive'}, 'RetryAttempts': 0}}\n"
     ]
    }
   ],
   "source": [
    "import csv\n",
    "import boto3\n",
    "with open('credentials.csv','r') as input:\n",
    "    next(input)\n",
    "    reader=csv.reader(input)\n",
    "    for line in reader:\n",
    "        access_key_id=line[2]\n",
    "        secret_access_key=line[3]\n",
    "photo='image_with_text.jpg'\n",
    "client=boto3.client('rekognition',region_name='us-east-2',\n",
    "    aws_access_key_id=access_key_id,\n",
    "    aws_secret_access_key=secret_access_key)\n",
    "\n",
    "with open(photo,'rb') as source_image:\n",
    "    source_bytes=source_image.read()\n",
    "\n",
    "# response=client.detect_text(\n",
    "# Image={\n",
    "#     'S3Object':{\n",
    "#         'Bucket':'adityak-tronano',\n",
    "#         'Name': photo\n",
    "#     }\n",
    "#  }\n",
    "# )\n",
    "response = client.detect_text(\n",
    "    Image={\n",
    "        'Bytes': source_bytes})\n",
    "print(response)\n",
    "        "
   ]
  },
  {
   "cell_type": "markdown",
   "metadata": {},
   "source": [
    "![](image_with_text.jpg)"
   ]
  },
  {
   "cell_type": "code",
   "execution_count": null,
   "metadata": {},
   "outputs": [],
   "source": []
  }
 ],
 "metadata": {
  "kernelspec": {
   "display_name": "Python 3",
   "language": "python",
   "name": "python3"
  },
  "language_info": {
   "codemirror_mode": {
    "name": "ipython",
    "version": 3
   },
   "file_extension": ".py",
   "mimetype": "text/x-python",
   "name": "python",
   "nbconvert_exporter": "python",
   "pygments_lexer": "ipython3",
   "version": "3.7.3"
  }
 },
 "nbformat": 4,
 "nbformat_minor": 2
}

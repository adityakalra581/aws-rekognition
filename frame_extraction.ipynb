{
 "cells": [
  {
   "cell_type": "markdown",
   "metadata": {},
   "source": [
    "### Extracting frame out of stored video.\n",
    "\n",
    "- Source Link:https://www.geeksforgeeks.org/python-program-extract-frames-using-opencv/"
   ]
  },
  {
   "cell_type": "code",
   "execution_count": 2,
   "metadata": {},
   "outputs": [],
   "source": [
    "# Program To Read video \n",
    "# and Extract Frames \n",
    "import cv2 \n",
    "\n"
   ]
  },
  {
   "cell_type": "markdown",
   "metadata": {},
   "source": [
    "- OpenCv library can be used to perform multiple operations on videos. Let’s try to do something interesting using CV2.\n",
    "- Take a video as input and break the video into frame by frame and save those frame. \n",
    "\n",
    "**Operations can perform form on the Video**\n",
    "\n",
    "- Now, number of operations can be performed on these frames. \n",
    "\n",
    "    - Like reversing the video file or crop the video etc. \n",
    "    - For playing video in reverse mode, we need only to store the frames in a list and iterate reverse in the list of      frames.\n",
    "    - Use reverse method of the list for reversing the order of frames in the list."
   ]
  },
  {
   "cell_type": "code",
   "execution_count": 3,
   "metadata": {},
   "outputs": [],
   "source": [
    "# Function to extract frames \n",
    "def FrameCapture(path): \n",
    "    vidObj = cv2.VideoCapture(path) \n",
    "\n",
    "# Used as counter variable \n",
    "    count = 0\n",
    "\n",
    "# checks whether frames were extracted \n",
    "    success = 1\n",
    "\n",
    "    while success: \n",
    "        success, image = vidObj.read() \n",
    "\n",
    "# Saves the frames with frame-count \n",
    "        cv2.imwrite(\"frame%d.jpg\" % count, image) \n",
    "        count += 1\n",
    "\n",
    "# Driver Code \n",
    "if __name__ == '__main__': \n",
    "    FrameCapture(\"C:\\\\Users\\\\aditya\\\\Videos\\\\Sample_Videos\\\\SampleVideo_1.mp4\") \n"
   ]
  },
  {
   "cell_type": "markdown",
   "metadata": {},
   "source": [
    "- this code will save the frames inside the same folder as the notebook.\n",
    "\n",
    "**Example of the output**"
   ]
  },
  {
   "cell_type": "markdown",
   "metadata": {},
   "source": [
    "![](frame10.jpg)"
   ]
  },
  {
   "cell_type": "markdown",
   "metadata": {},
   "source": [
    "**Resizing the image**"
   ]
  },
  {
   "cell_type": "markdown",
   "metadata": {},
   "source": [
    "- SOURCE: https://stackoverflow.com/questions/41598916/resize-the-image-in-jupyter-notebook-using-markdown\n",
    "**Syntax inside a markdown: \n",
    "- <img src=\"image.JPG\" alt=\"Drawing\" style=\"width: 200px;\"/>\n",
    "- don't run this tab.."
   ]
  },
  {
   "cell_type": "markdown",
   "metadata": {},
   "source": [
    "<img src=\"frame10.JPG\" alt=\"Drawing\" style=\"width: 500px;\"/>   "
   ]
  },
  {
   "cell_type": "markdown",
   "metadata": {},
   "source": [
    "### Frame Extraction from  real time videos."
   ]
  },
  {
   "cell_type": "code",
   "execution_count": null,
   "metadata": {},
   "outputs": [],
   "source": [
    "def FrameCapture(path): \n",
    "    vidObj = cv2.VideoCapture(path) \n",
    "\n",
    "# Used as counter variable \n",
    "    count = 0\n",
    "\n",
    "# checks whether frames were extracted \n",
    "    success = 1\n",
    "\n",
    "    while success: \n",
    "        success, image = vidObj.read() \n",
    "\n",
    "# Saves the frames with frame-count \n",
    "        cv2.imwrite(\"frame%d.jpg\" % count, image) \n",
    "        count += 1\n",
    "\n",
    "# Driver Code \n",
    "if __name__ == '__main__': \n",
    "    FrameCapture(0) \n",
    "    \n",
    "# import cv2\n",
    "# import numpy as np\n",
    "\n",
    "# cap=cv2.VideoCapture(0) # 0 is for inbuilt camera\n",
    "\n",
    "# while True:\n",
    "#     ret,frame=cap.read()\n",
    "#     gray=cv2.cvtColor(frame, cv2.COLOR_BGR2GRAY)\n",
    "\n",
    "#     cv2.imshow('frame',frame)\n",
    "#     cv2.imshow('gray',gray)\n",
    "#     if cv2.waitKey(1) & 0xFF == ord('q'):\n",
    "# ## Press q and the loop will get off.        \n",
    "#         break\n",
    "# cap.release()\n",
    "# #out.release()\n",
    "# cv2.destroyAllWindows()\n",
    "    \n",
    "    \n",
    "    "
   ]
  },
  {
   "cell_type": "markdown",
   "metadata": {},
   "source": [
    "- Code For saving the images to particular folder.\n",
    "- as cv2.imwrite saves the images inside the default folder."
   ]
  },
  {
   "cell_type": "code",
   "execution_count": 2,
   "metadata": {},
   "outputs": [
    {
     "data": {
      "text/plain": [
       "-1"
      ]
     },
     "execution_count": 2,
     "metadata": {},
     "output_type": "execute_result"
    }
   ],
   "source": [
    "# SOURCE: https://stackoverflow.com/questions/41586429/opencv-saving-images-to-a-particular-folder-of-choice/41587740\n",
    "\n",
    "import cv2\n",
    "import os\n",
    "img=cv2.imread('image_with_text.jpg',1) \n",
    "# 1 means colored image\n",
    "# Remember OpenCV is in BGR \n",
    "# Therefore regular colored image will be somehow distorted.\n",
    "path='D:\\\\GITHUB\\\\aws-rekognition\\\\Frames'\n",
    "cv2.imwrite(os.path.join(path,\"frame.jpg\"),img)\n",
    "cv2.waitKey(0)"
   ]
  },
  {
   "cell_type": "markdown",
   "metadata": {},
   "source": [
    "#### Output:\n",
    "\n",
    "- Code is working.\n",
    "- image inside default folder is copied into the mentioned path."
   ]
  },
  {
   "cell_type": "markdown",
   "metadata": {},
   "source": [
    "### The initial code:"
   ]
  },
  {
   "cell_type": "code",
   "execution_count": 1,
   "metadata": {},
   "outputs": [],
   "source": [
    "import os\n",
    "import cv2\n",
    "\n",
    "vidobj=cv2.VideoCapture(0)\n",
    "success=1\n",
    "count=0\n",
    "while True:\n",
    "    success,image=vidobj.read()\n",
    "    cv2.imshow('frame',image)\n",
    "    cv2.imwrite(\"frame%d.jpg\" % count,image)\n",
    "    count+=1\n",
    "    if cv2.waitKey(1) & 0xFF == ord('q'):\n",
    "        break\n",
    "vidobj.release()\n",
    "cv2.destroyAllWindows()\n",
    " "
   ]
  },
  {
   "cell_type": "markdown",
   "metadata": {},
   "source": [
    "### Output:\n",
    "\n",
    "- The code is running\n",
    "- Frames are saved inside the folder\n",
    "- webcam initially was not terminating but after using cv2.imshow and calibration it worked.\n",
    "- Now i'll try to save the frames inside a specific folder for better use."
   ]
  },
  {
   "cell_type": "markdown",
   "metadata": {},
   "source": [
    "### Second Attempt on the Frame Extraction of real time videos. \n",
    "\n",
    "- Now Saving the frames inside a particular folder."
   ]
  },
  {
   "cell_type": "code",
   "execution_count": 7,
   "metadata": {},
   "outputs": [],
   "source": [
    "import os\n",
    "import cv2\n",
    "\n",
    "vidobj=cv2.VideoCapture(0)\n",
    "success=1\n",
    "count=0\n",
    "path='D:\\\\GITHUB\\\\aws-rekognition\\\\Frames\\\\realtime_frame'\n",
    "\n",
    "\n",
    "#path='C:\\\\Users\\\\aditya\\\\Pictures\\\\Saved Pictures'   \n",
    "#Used it in order to view the frames.                    \n",
    "# As gitignore is created frames in the Frame folder cannot be viewed.\n",
    "\n",
    "\n",
    "# Now we just have to change the path and the source code will take care of the rest.\n",
    "while True:\n",
    "    success,image=vidobj.read()\n",
    "    cv2.imshow('frame',image)\n",
    "    cv2.imwrite(os.path.join(path,\"frame%d.jpg\" % count),image)\n",
    "    count+=1\n",
    "    if cv2.waitKey(1) & 0xFF == ord('q'):\n",
    "        break\n",
    "vidobj.release()\n",
    "cv2.destroyAllWindows()"
   ]
  },
  {
   "cell_type": "markdown",
   "metadata": {},
   "source": [
    "### PERFECT WORKING....!"
   ]
  },
  {
   "cell_type": "markdown",
   "metadata": {},
   "source": [
    "#### EXAMPLE OF OUTPUT:\n"
   ]
  },
  {
   "cell_type": "markdown",
   "metadata": {},
   "source": [
    "![](frame59.jpg)"
   ]
  },
  {
   "cell_type": "markdown",
   "metadata": {},
   "source": [
    "### Another Example \n",
    "\n",
    "$$Delivery-Slip$$ "
   ]
  },
  {
   "cell_type": "markdown",
   "metadata": {},
   "source": [
    "![](frame68_del_receipt.jpg)"
   ]
  },
  {
   "cell_type": "code",
   "execution_count": null,
   "metadata": {},
   "outputs": [],
   "source": []
  },
  {
   "cell_type": "code",
   "execution_count": null,
   "metadata": {},
   "outputs": [],
   "source": []
  }
 ],
 "metadata": {
  "kernelspec": {
   "display_name": "Python 3",
   "language": "python",
   "name": "python3"
  },
  "language_info": {
   "codemirror_mode": {
    "name": "ipython",
    "version": 3
   },
   "file_extension": ".py",
   "mimetype": "text/x-python",
   "name": "python",
   "nbconvert_exporter": "python",
   "pygments_lexer": "ipython3",
   "version": "3.7.3"
  }
 },
 "nbformat": 4,
 "nbformat_minor": 2
}
